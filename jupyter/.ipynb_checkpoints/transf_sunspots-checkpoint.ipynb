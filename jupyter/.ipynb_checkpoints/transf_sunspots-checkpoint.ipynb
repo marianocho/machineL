{
 "cells": [
  {
   "cell_type": "code",
   "execution_count": 36,
   "id": "4d3de081",
   "metadata": {},
   "outputs": [],
   "source": [
    "#1 importando bibliotecas\n",
    "import pandas as pd\n",
    "import matplotlib.pyplot as plt\n",
    "import numpy as np\n",
    "\n",
    "from sklearn.linear_model import LinearRegression\n",
    "from sklearn.metrics import mean_squared_error\n",
    "from sklearn.model_selection import KFold, cross_val_score"
   ]
  },
  {
   "cell_type": "code",
   "execution_count": 37,
   "id": "d1b51b6c",
   "metadata": {},
   "outputs": [
    {
     "data": {
      "text/html": [
       "<div>\n",
       "<style scoped>\n",
       "    .dataframe tbody tr th:only-of-type {\n",
       "        vertical-align: middle;\n",
       "    }\n",
       "\n",
       "    .dataframe tbody tr th {\n",
       "        vertical-align: top;\n",
       "    }\n",
       "\n",
       "    .dataframe thead th {\n",
       "        text-align: right;\n",
       "    }\n",
       "</style>\n",
       "<table border=\"1\" class=\"dataframe\">\n",
       "  <thead>\n",
       "    <tr style=\"text-align: right;\">\n",
       "      <th></th>\n",
       "      <th>Unnamed: 0</th>\n",
       "      <th>Date</th>\n",
       "      <th>Monthly Mean Total Sunspot Number</th>\n",
       "    </tr>\n",
       "  </thead>\n",
       "  <tbody>\n",
       "    <tr>\n",
       "      <th>0</th>\n",
       "      <td>0</td>\n",
       "      <td>1749-01-31</td>\n",
       "      <td>96.7</td>\n",
       "    </tr>\n",
       "    <tr>\n",
       "      <th>1</th>\n",
       "      <td>1</td>\n",
       "      <td>1749-02-28</td>\n",
       "      <td>104.3</td>\n",
       "    </tr>\n",
       "    <tr>\n",
       "      <th>2</th>\n",
       "      <td>2</td>\n",
       "      <td>1749-03-31</td>\n",
       "      <td>116.7</td>\n",
       "    </tr>\n",
       "    <tr>\n",
       "      <th>3</th>\n",
       "      <td>3</td>\n",
       "      <td>1749-04-30</td>\n",
       "      <td>92.8</td>\n",
       "    </tr>\n",
       "    <tr>\n",
       "      <th>4</th>\n",
       "      <td>4</td>\n",
       "      <td>1749-05-31</td>\n",
       "      <td>141.7</td>\n",
       "    </tr>\n",
       "  </tbody>\n",
       "</table>\n",
       "</div>"
      ],
      "text/plain": [
       "   Unnamed: 0        Date  Monthly Mean Total Sunspot Number\n",
       "0           0  1749-01-31                               96.7\n",
       "1           1  1749-02-28                              104.3\n",
       "2           2  1749-03-31                              116.7\n",
       "3           3  1749-04-30                               92.8\n",
       "4           4  1749-05-31                              141.7"
      ]
     },
     "execution_count": 37,
     "metadata": {},
     "output_type": "execute_result"
    }
   ],
   "source": [
    "#2 transformando csv em tabela\n",
    "df = pd.read_csv('monthly-sunspots.csv')\n",
    "df.head()"
   ]
  },
  {
   "cell_type": "code",
   "execution_count": 38,
   "id": "140cb42b",
   "metadata": {},
   "outputs": [
    {
     "name": "stdout",
     "output_type": "stream",
     "text": [
      "3252\n"
     ]
    },
    {
     "data": {
      "text/html": [
       "<div>\n",
       "<style scoped>\n",
       "    .dataframe tbody tr th:only-of-type {\n",
       "        vertical-align: middle;\n",
       "    }\n",
       "\n",
       "    .dataframe tbody tr th {\n",
       "        vertical-align: top;\n",
       "    }\n",
       "\n",
       "    .dataframe thead th {\n",
       "        text-align: right;\n",
       "    }\n",
       "</style>\n",
       "<table border=\"1\" class=\"dataframe\">\n",
       "  <thead>\n",
       "    <tr style=\"text-align: right;\">\n",
       "      <th></th>\n",
       "      <th>Unnamed: 0</th>\n",
       "      <th>Date</th>\n",
       "      <th>Monthly Mean Total Sunspot Number</th>\n",
       "      <th>Year</th>\n",
       "      <th>Month</th>\n",
       "    </tr>\n",
       "  </thead>\n",
       "  <tbody>\n",
       "    <tr>\n",
       "      <th>0</th>\n",
       "      <td>0</td>\n",
       "      <td>1749-01-31</td>\n",
       "      <td>96.7</td>\n",
       "      <td>1749</td>\n",
       "      <td>1</td>\n",
       "    </tr>\n",
       "    <tr>\n",
       "      <th>1</th>\n",
       "      <td>1</td>\n",
       "      <td>1749-02-28</td>\n",
       "      <td>104.3</td>\n",
       "      <td>1749</td>\n",
       "      <td>2</td>\n",
       "    </tr>\n",
       "    <tr>\n",
       "      <th>2</th>\n",
       "      <td>2</td>\n",
       "      <td>1749-03-31</td>\n",
       "      <td>116.7</td>\n",
       "      <td>1749</td>\n",
       "      <td>3</td>\n",
       "    </tr>\n",
       "    <tr>\n",
       "      <th>3</th>\n",
       "      <td>3</td>\n",
       "      <td>1749-04-30</td>\n",
       "      <td>92.8</td>\n",
       "      <td>1749</td>\n",
       "      <td>4</td>\n",
       "    </tr>\n",
       "    <tr>\n",
       "      <th>4</th>\n",
       "      <td>4</td>\n",
       "      <td>1749-05-31</td>\n",
       "      <td>141.7</td>\n",
       "      <td>1749</td>\n",
       "      <td>5</td>\n",
       "    </tr>\n",
       "  </tbody>\n",
       "</table>\n",
       "</div>"
      ],
      "text/plain": [
       "   Unnamed: 0       Date  Monthly Mean Total Sunspot Number  Year  Month\n",
       "0           0 1749-01-31                               96.7  1749      1\n",
       "1           1 1749-02-28                              104.3  1749      2\n",
       "2           2 1749-03-31                              116.7  1749      3\n",
       "3           3 1749-04-30                               92.8  1749      4\n",
       "4           4 1749-05-31                              141.7  1749      5"
      ]
     },
     "execution_count": 38,
     "metadata": {},
     "output_type": "execute_result"
    }
   ],
   "source": [
    "#3 transformando coluna Date em data e criando coluna mes e ano\n",
    "df['Date'] = pd.to_datetime(df['Date'])\n",
    "df['Year'] = df['Date'].dt.year\n",
    "df['Month'] = df['Date'].dt.month\n",
    "print(len(df))\n",
    "df.head()"
   ]
  },
  {
   "cell_type": "code",
   "execution_count": 39,
   "id": "472b8253",
   "metadata": {},
   "outputs": [
    {
     "data": {
      "text/html": [
       "<div>\n",
       "<style scoped>\n",
       "    .dataframe tbody tr th:only-of-type {\n",
       "        vertical-align: middle;\n",
       "    }\n",
       "\n",
       "    .dataframe tbody tr th {\n",
       "        vertical-align: top;\n",
       "    }\n",
       "\n",
       "    .dataframe thead th {\n",
       "        text-align: right;\n",
       "    }\n",
       "</style>\n",
       "<table border=\"1\" class=\"dataframe\">\n",
       "  <thead>\n",
       "    <tr style=\"text-align: right;\">\n",
       "      <th></th>\n",
       "      <th>Unnamed: 0</th>\n",
       "      <th>Date</th>\n",
       "      <th>Monthly Mean Total Sunspot Number</th>\n",
       "      <th>Year</th>\n",
       "      <th>Month</th>\n",
       "      <th>transf_month</th>\n",
       "      <th>transf_year</th>\n",
       "    </tr>\n",
       "  </thead>\n",
       "  <tbody>\n",
       "    <tr>\n",
       "      <th>0</th>\n",
       "      <td>0</td>\n",
       "      <td>1749-01-31</td>\n",
       "      <td>96.7</td>\n",
       "      <td>1749</td>\n",
       "      <td>1</td>\n",
       "      <td>0.610426</td>\n",
       "      <td>1.0</td>\n",
       "    </tr>\n",
       "    <tr>\n",
       "      <th>1</th>\n",
       "      <td>1</td>\n",
       "      <td>1749-02-28</td>\n",
       "      <td>104.3</td>\n",
       "      <td>1749</td>\n",
       "      <td>2</td>\n",
       "      <td>0.200374</td>\n",
       "      <td>1.0</td>\n",
       "    </tr>\n",
       "    <tr>\n",
       "      <th>2</th>\n",
       "      <td>2</td>\n",
       "      <td>1749-03-31</td>\n",
       "      <td>116.7</td>\n",
       "      <td>1749</td>\n",
       "      <td>3</td>\n",
       "      <td>-0.595507</td>\n",
       "      <td>-1.0</td>\n",
       "    </tr>\n",
       "    <tr>\n",
       "      <th>3</th>\n",
       "      <td>3</td>\n",
       "      <td>1749-04-30</td>\n",
       "      <td>92.8</td>\n",
       "      <td>1749</td>\n",
       "      <td>4</td>\n",
       "      <td>0.920263</td>\n",
       "      <td>1.0</td>\n",
       "    </tr>\n",
       "    <tr>\n",
       "      <th>4</th>\n",
       "      <td>4</td>\n",
       "      <td>1749-05-31</td>\n",
       "      <td>141.7</td>\n",
       "      <td>1749</td>\n",
       "      <td>5</td>\n",
       "      <td>-0.987173</td>\n",
       "      <td>-1.0</td>\n",
       "    </tr>\n",
       "  </tbody>\n",
       "</table>\n",
       "</div>"
      ],
      "text/plain": [
       "   Unnamed: 0       Date  Monthly Mean Total Sunspot Number  Year  Month  \\\n",
       "0           0 1749-01-31                               96.7  1749      1   \n",
       "1           1 1749-02-28                              104.3  1749      2   \n",
       "2           2 1749-03-31                              116.7  1749      3   \n",
       "3           3 1749-04-30                               92.8  1749      4   \n",
       "4           4 1749-05-31                              141.7  1749      5   \n",
       "\n",
       "   transf_month  transf_year  \n",
       "0      0.610426          1.0  \n",
       "1      0.200374          1.0  \n",
       "2     -0.595507         -1.0  \n",
       "3      0.920263          1.0  \n",
       "4     -0.987173         -1.0  "
      ]
     },
     "execution_count": 39,
     "metadata": {},
     "output_type": "execute_result"
    }
   ],
   "source": [
    "#4 fazendo transformacao dos dados\n",
    "# gerar um vetor w\n",
    "w = np.random.uniform(low=-1, high=1, size=3252)\n",
    "df['transf_month'] = np.tanh(w*df['Month'])\n",
    "df['transf_year'] = np.tanh(w*df['Year'])\n",
    "df.head()"
   ]
  },
  {
   "cell_type": "code",
   "execution_count": 46,
   "id": "d80a3186",
   "metadata": {},
   "outputs": [
    {
     "data": {
      "image/png": "[encoded data removed]",
      "text/plain": [
       "<Figure size 1000x1000 with 1 Axes>"
      ]
     },
     "metadata": {},
     "output_type": "display_data"
    }
   ],
   "source": [
    "# analisando dados\n",
    "\n",
    "data_lim = df.head(36)\n",
    "plt.figure(figsize=(10, 10))\n",
    "plt.plot(data_lim['Date'], data_lim['Monthly Mean Total Sunspot Number'], marker='o', linestyle='-', color='b')\n",
    "plt.title('Sunspot per Date')\n",
    "plt.xlabel('Date')\n",
    "plt.ylabel('Sunspot')\n",
    "plt.grid('True')\n",
    "plt.show()"
   ]
  },
  {
   "cell_type": "code",
   "execution_count": 41,
   "id": "c975e2f2",
   "metadata": {},
   "outputs": [],
   "source": [
    "# dividindo base de treino e teste\n",
    "test_data = df[(df['Date'].dt.year >= 2010) & (df['Date'].dt.year <= 2019)]\n",
    "train_data = df[(df['Date'].dt.year >= 1749) & (df['Date'].dt.year <= 2009)]"
   ]
  },
  {
   "cell_type": "code",
   "execution_count": 42,
   "id": "ab0ef2dc",
   "metadata": {},
   "outputs": [],
   "source": [
    "# definindo modelos e dados\n",
    "\n",
    "X = train_data[['transf_year']]\n",
    "Y = train_data['Monthly Mean Total Sunspot Number']\n",
    "X_test = test_data[['transf_year']]\n",
    "Y_test = test_data['Monthly Mean Total Sunspot Number']\n",
    "model = LinearRegression()\n",
    "errors = []"
   ]
  },
  {
   "cell_type": "code",
   "execution_count": 43,
   "id": "3a149671",
   "metadata": {},
   "outputs": [],
   "source": [
    "# validacao cruzada k-fold\n",
    "for k in range(1, 25):\n",
    "    if k == 1:\n",
    "        X_train, X_validation = X[:-1], X[-1:] #separa dados de treino e validacao\n",
    "        Y_train, Y_validation = Y[:-1], Y[-1:] #separa dados de treino e validacao\n",
    "        model.fit(X_train, Y_train) #treina o modelo\n",
    "        Y_pred = model.predict(X_validation) #prediz o valor de Y\n",
    "        rmse = np.sqrt(mean_squared_error(Y_validation, Y_pred)) #rmse\n",
    "        errors.append(rmse)\n",
    "    else:\n",
    "        kf = KFold(n_splits=k, shuffle=True, random_state=42)\n",
    "        mse_scores = cross_val_score(model, X, Y, cv=kf, scoring='neg_mean_squared_error')\n",
    "        rmse_scores = np.sqrt(-mse_scores)\n",
    "        rmse = np.mean(rmse_scores)\n",
    "        errors.append(rmse)"
   ]
  },
  {
   "cell_type": "code",
   "execution_count": 44,
   "id": "041184d1",
   "metadata": {},
   "outputs": [
    {
     "name": "stdout",
     "output_type": "stream",
     "text": [
      "[69.01349134564578, 68.4463686554829, 68.4549712270098, 68.44663376911052, 68.46358498297955, 68.45120651686769, 68.44049120100361, 68.40738676695213, 68.39125649319797, 68.43796821750087, 68.39806942970324, 68.42002128110694, 68.3563337158369, 68.39307057507439, 68.35713963240673, 68.35347065831682, 68.38544428489683, 68.37179261773296, 68.35555081024806, 68.36211403732037, 68.34981352674481, 68.34363163096242, 68.30889838136127, 68.35017998661809]\n"
     ]
    }
   ],
   "source": [
    "# plotar grafico\n",
    "print(errors)"
   ]
  },
  {
   "cell_type": "code",
   "execution_count": null,
   "id": "7dfabe43",
   "metadata": {},
   "outputs": [],
   "source": []
  }
 ],
 "metadata": {
  "kernelspec": {
   "display_name": "Python 3 (ipykernel)",
   "language": "python",
   "name": "python3"
  },
  "language_info": {
   "codemirror_mode": {
    "name": "ipython",
    "version": 3
   },
   "file_extension": ".py",
   "mimetype": "text/x-python",
   "name": "python",
   "nbconvert_exporter": "python",
   "pygments_lexer": "ipython3",
   "version": "3.11.4"
  }
 },
 "nbformat": 4,
 "nbformat_minor": 5
}
