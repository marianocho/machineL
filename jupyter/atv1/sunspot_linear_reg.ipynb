{
 "cells": [
  {
   "cell_type": "code",
   "execution_count": 2,
   "id": "9a697951",
   "metadata": {},
   "outputs": [],
   "source": [
    "#importando bibliotecas necessarias\n",
    "\n",
    "import pandas as pd\n",
    "import matplotlib.pyplot as plt\n",
    "import numpy as np\n",
    "\n",
    "from sklearn.linear_model import LinearRegression\n",
    "from sklearn.metrics import mean_squared_error\n",
    "from sklearn.model_selection import KFold, cross_val_score "
   ]
  },
  {
   "cell_type": "code",
   "execution_count": 3,
   "id": "32d65035",
   "metadata": {},
   "outputs": [],
   "source": [
    "#importando base de dados\n",
    "\n",
    "data = pd.read_csv('monthly-sunspots.csv')"
   ]
  },
  {
   "cell_type": "code",
   "execution_count": 4,
   "id": "aa85f546",
   "metadata": {},
   "outputs": [
    {
     "data": {
      "text/html": [
       "<div>\n",
       "<style scoped>\n",
       "    .dataframe tbody tr th:only-of-type {\n",
       "        vertical-align: middle;\n",
       "    }\n",
       "\n",
       "    .dataframe tbody tr th {\n",
       "        vertical-align: top;\n",
       "    }\n",
       "\n",
       "    .dataframe thead th {\n",
       "        text-align: right;\n",
       "    }\n",
       "</style>\n",
       "<table border=\"1\" class=\"dataframe\">\n",
       "  <thead>\n",
       "    <tr style=\"text-align: right;\">\n",
       "      <th></th>\n",
       "      <th>Unnamed: 0</th>\n",
       "      <th>Date</th>\n",
       "      <th>Monthly Mean Total Sunspot Number</th>\n",
       "    </tr>\n",
       "  </thead>\n",
       "  <tbody>\n",
       "    <tr>\n",
       "      <th>0</th>\n",
       "      <td>0</td>\n",
       "      <td>1749-01-31</td>\n",
       "      <td>96.7</td>\n",
       "    </tr>\n",
       "    <tr>\n",
       "      <th>1</th>\n",
       "      <td>1</td>\n",
       "      <td>1749-02-28</td>\n",
       "      <td>104.3</td>\n",
       "    </tr>\n",
       "    <tr>\n",
       "      <th>2</th>\n",
       "      <td>2</td>\n",
       "      <td>1749-03-31</td>\n",
       "      <td>116.7</td>\n",
       "    </tr>\n",
       "    <tr>\n",
       "      <th>3</th>\n",
       "      <td>3</td>\n",
       "      <td>1749-04-30</td>\n",
       "      <td>92.8</td>\n",
       "    </tr>\n",
       "    <tr>\n",
       "      <th>4</th>\n",
       "      <td>4</td>\n",
       "      <td>1749-05-31</td>\n",
       "      <td>141.7</td>\n",
       "    </tr>\n",
       "  </tbody>\n",
       "</table>\n",
       "</div>"
      ],
      "text/plain": [
       "   Unnamed: 0        Date  Monthly Mean Total Sunspot Number\n",
       "0           0  1749-01-31                               96.7\n",
       "1           1  1749-02-28                              104.3\n",
       "2           2  1749-03-31                              116.7\n",
       "3           3  1749-04-30                               92.8\n",
       "4           4  1749-05-31                              141.7"
      ]
     },
     "execution_count": 4,
     "metadata": {},
     "output_type": "execute_result"
    }
   ],
   "source": [
    "#visualizando dados\n",
    "data.head()"
   ]
  },
  {
   "cell_type": "code",
   "execution_count": 5,
   "id": "93ad38b4",
   "metadata": {},
   "outputs": [],
   "source": [
    "#adicionando colunas de Ano e Mes\n",
    "\n",
    "data['Year'] = 0\n",
    "data['Month'] = 0"
   ]
  },
  {
   "cell_type": "code",
   "execution_count": 6,
   "id": "16d1e503",
   "metadata": {},
   "outputs": [
    {
     "data": {
      "text/html": [
       "<div>\n",
       "<style scoped>\n",
       "    .dataframe tbody tr th:only-of-type {\n",
       "        vertical-align: middle;\n",
       "    }\n",
       "\n",
       "    .dataframe tbody tr th {\n",
       "        vertical-align: top;\n",
       "    }\n",
       "\n",
       "    .dataframe thead th {\n",
       "        text-align: right;\n",
       "    }\n",
       "</style>\n",
       "<table border=\"1\" class=\"dataframe\">\n",
       "  <thead>\n",
       "    <tr style=\"text-align: right;\">\n",
       "      <th></th>\n",
       "      <th>Unnamed: 0</th>\n",
       "      <th>Date</th>\n",
       "      <th>Monthly Mean Total Sunspot Number</th>\n",
       "      <th>Year</th>\n",
       "      <th>Month</th>\n",
       "    </tr>\n",
       "  </thead>\n",
       "  <tbody>\n",
       "    <tr>\n",
       "      <th>0</th>\n",
       "      <td>0</td>\n",
       "      <td>1749-01-31</td>\n",
       "      <td>96.7</td>\n",
       "      <td>0</td>\n",
       "      <td>0</td>\n",
       "    </tr>\n",
       "    <tr>\n",
       "      <th>1</th>\n",
       "      <td>1</td>\n",
       "      <td>1749-02-28</td>\n",
       "      <td>104.3</td>\n",
       "      <td>0</td>\n",
       "      <td>0</td>\n",
       "    </tr>\n",
       "    <tr>\n",
       "      <th>2</th>\n",
       "      <td>2</td>\n",
       "      <td>1749-03-31</td>\n",
       "      <td>116.7</td>\n",
       "      <td>0</td>\n",
       "      <td>0</td>\n",
       "    </tr>\n",
       "    <tr>\n",
       "      <th>3</th>\n",
       "      <td>3</td>\n",
       "      <td>1749-04-30</td>\n",
       "      <td>92.8</td>\n",
       "      <td>0</td>\n",
       "      <td>0</td>\n",
       "    </tr>\n",
       "    <tr>\n",
       "      <th>4</th>\n",
       "      <td>4</td>\n",
       "      <td>1749-05-31</td>\n",
       "      <td>141.7</td>\n",
       "      <td>0</td>\n",
       "      <td>0</td>\n",
       "    </tr>\n",
       "  </tbody>\n",
       "</table>\n",
       "</div>"
      ],
      "text/plain": [
       "   Unnamed: 0        Date  Monthly Mean Total Sunspot Number  Year  Month\n",
       "0           0  1749-01-31                               96.7     0      0\n",
       "1           1  1749-02-28                              104.3     0      0\n",
       "2           2  1749-03-31                              116.7     0      0\n",
       "3           3  1749-04-30                               92.8     0      0\n",
       "4           4  1749-05-31                              141.7     0      0"
      ]
     },
     "execution_count": 6,
     "metadata": {},
     "output_type": "execute_result"
    }
   ],
   "source": [
    "#verificando alteracoes\n",
    "data.head()"
   ]
  },
  {
   "cell_type": "code",
   "execution_count": 10,
   "id": "b122d79c",
   "metadata": {},
   "outputs": [],
   "source": [
    "#data em formato de data\n",
    "data['Date'] = pd.to_datetime(data['Date'])\n",
    "data_lim = data.head(120)"
   ]
  },
  {
   "cell_type": "code",
   "execution_count": 11,
   "id": "7f0b1edf",
   "metadata": {},
   "outputs": [
    {
     "data": {
      "image/png": "[encoded data removed]",
      "text/plain": [
       "<Figure size 1000x1000 with 1 Axes>"
      ]
     },
     "metadata": {},
     "output_type": "display_data"
    }
   ],
   "source": [
    "plt.figure(figsize=(10, 10))\n",
    "plt.plot(data_lim['Date'], data_lim['Monthly Mean Total Sunspot Number'], marker='o', linestyle='-', color='b')\n",
    "plt.title('Sunspot per Date')\n",
    "plt.xlabel('Date')\n",
    "plt.ylabel('Sunspot')\n",
    "plt.grid('True')\n",
    "plt.show()"
   ]
  },
  {
   "cell_type": "code",
   "execution_count": 133,
   "id": "d2f1e0ad",
   "metadata": {},
   "outputs": [],
   "source": [
    "#preenchendo colunas de Ano e Mes\n",
    "data['Year'] = data['Date'].dt.year\n",
    "data['Month'] = data['Date'].dt.month\n",
    "data['Days'] = (data['Date'] - data['Date'].min()).dt.days"
   ]
  },
  {
   "cell_type": "code",
   "execution_count": 119,
   "id": "62b217b9",
   "metadata": {},
   "outputs": [
    {
     "data": {
      "text/html": [
       "<div>\n",
       "<style scoped>\n",
       "    .dataframe tbody tr th:only-of-type {\n",
       "        vertical-align: middle;\n",
       "    }\n",
       "\n",
       "    .dataframe tbody tr th {\n",
       "        vertical-align: top;\n",
       "    }\n",
       "\n",
       "    .dataframe thead th {\n",
       "        text-align: right;\n",
       "    }\n",
       "</style>\n",
       "<table border=\"1\" class=\"dataframe\">\n",
       "  <thead>\n",
       "    <tr style=\"text-align: right;\">\n",
       "      <th></th>\n",
       "      <th>Unnamed: 0</th>\n",
       "      <th>Date</th>\n",
       "      <th>Monthly Mean Total Sunspot Number</th>\n",
       "      <th>Year</th>\n",
       "      <th>Month</th>\n",
       "      <th>Days</th>\n",
       "    </tr>\n",
       "  </thead>\n",
       "  <tbody>\n",
       "    <tr>\n",
       "      <th>3242</th>\n",
       "      <td>3242</td>\n",
       "      <td>2019-03-31</td>\n",
       "      <td>9.4</td>\n",
       "      <td>2019</td>\n",
       "      <td>3</td>\n",
       "      <td>98674</td>\n",
       "    </tr>\n",
       "    <tr>\n",
       "      <th>3243</th>\n",
       "      <td>3243</td>\n",
       "      <td>2019-04-30</td>\n",
       "      <td>9.1</td>\n",
       "      <td>2019</td>\n",
       "      <td>4</td>\n",
       "      <td>98704</td>\n",
       "    </tr>\n",
       "    <tr>\n",
       "      <th>3244</th>\n",
       "      <td>3244</td>\n",
       "      <td>2019-05-31</td>\n",
       "      <td>9.9</td>\n",
       "      <td>2019</td>\n",
       "      <td>5</td>\n",
       "      <td>98735</td>\n",
       "    </tr>\n",
       "    <tr>\n",
       "      <th>3245</th>\n",
       "      <td>3245</td>\n",
       "      <td>2019-06-30</td>\n",
       "      <td>1.2</td>\n",
       "      <td>2019</td>\n",
       "      <td>6</td>\n",
       "      <td>98765</td>\n",
       "    </tr>\n",
       "    <tr>\n",
       "      <th>3246</th>\n",
       "      <td>3246</td>\n",
       "      <td>2019-07-31</td>\n",
       "      <td>0.9</td>\n",
       "      <td>2019</td>\n",
       "      <td>7</td>\n",
       "      <td>98796</td>\n",
       "    </tr>\n",
       "    <tr>\n",
       "      <th>3247</th>\n",
       "      <td>3247</td>\n",
       "      <td>2019-08-31</td>\n",
       "      <td>0.5</td>\n",
       "      <td>2019</td>\n",
       "      <td>8</td>\n",
       "      <td>98827</td>\n",
       "    </tr>\n",
       "    <tr>\n",
       "      <th>3248</th>\n",
       "      <td>3248</td>\n",
       "      <td>2019-09-30</td>\n",
       "      <td>1.1</td>\n",
       "      <td>2019</td>\n",
       "      <td>9</td>\n",
       "      <td>98857</td>\n",
       "    </tr>\n",
       "    <tr>\n",
       "      <th>3249</th>\n",
       "      <td>3249</td>\n",
       "      <td>2019-10-31</td>\n",
       "      <td>0.4</td>\n",
       "      <td>2019</td>\n",
       "      <td>10</td>\n",
       "      <td>98888</td>\n",
       "    </tr>\n",
       "    <tr>\n",
       "      <th>3250</th>\n",
       "      <td>3250</td>\n",
       "      <td>2019-11-30</td>\n",
       "      <td>0.5</td>\n",
       "      <td>2019</td>\n",
       "      <td>11</td>\n",
       "      <td>98918</td>\n",
       "    </tr>\n",
       "    <tr>\n",
       "      <th>3251</th>\n",
       "      <td>3251</td>\n",
       "      <td>2019-12-31</td>\n",
       "      <td>1.6</td>\n",
       "      <td>2019</td>\n",
       "      <td>12</td>\n",
       "      <td>98949</td>\n",
       "    </tr>\n",
       "  </tbody>\n",
       "</table>\n",
       "</div>"
      ],
      "text/plain": [
       "      Unnamed: 0       Date  Monthly Mean Total Sunspot Number  Year  Month  \\\n",
       "3242        3242 2019-03-31                                9.4  2019      3   \n",
       "3243        3243 2019-04-30                                9.1  2019      4   \n",
       "3244        3244 2019-05-31                                9.9  2019      5   \n",
       "3245        3245 2019-06-30                                1.2  2019      6   \n",
       "3246        3246 2019-07-31                                0.9  2019      7   \n",
       "3247        3247 2019-08-31                                0.5  2019      8   \n",
       "3248        3248 2019-09-30                                1.1  2019      9   \n",
       "3249        3249 2019-10-31                                0.4  2019     10   \n",
       "3250        3250 2019-11-30                                0.5  2019     11   \n",
       "3251        3251 2019-12-31                                1.6  2019     12   \n",
       "\n",
       "       Days  \n",
       "3242  98674  \n",
       "3243  98704  \n",
       "3244  98735  \n",
       "3245  98765  \n",
       "3246  98796  \n",
       "3247  98827  \n",
       "3248  98857  \n",
       "3249  98888  \n",
       "3250  98918  \n",
       "3251  98949  "
      ]
     },
     "execution_count": 119,
     "metadata": {},
     "output_type": "execute_result"
    }
   ],
   "source": [
    "#verificando atualizacoes\n",
    "data.tail(10)"
   ]
  },
  {
   "cell_type": "code",
   "execution_count": 110,
   "id": "9ab11f05",
   "metadata": {},
   "outputs": [],
   "source": [
    "#separando base de treino e de teste\n",
    "test_data = data[(data['Year'] >= 2010) & (data['Year'] <= 2019)]\n",
    "train_data = data[(data['Year'] >= 1749) & (data['Year'] <= 2009)]"
   ]
  },
  {
   "cell_type": "code",
   "execution_count": 122,
   "id": "727cf8e3",
   "metadata": {},
   "outputs": [],
   "source": [
    "#definindo x e y e modelo\n",
    "X = train_data[['Days']]\n",
    "Y = train_data['Monthly Mean Total Sunspot Number']\n",
    "X_test = test_data[['Days']]\n",
    "Y_test = test_data['Monthly Mean Total Sunspot Number']\n",
    "model = LinearRegression()\n",
    "erros = []"
   ]
  },
  {
   "cell_type": "code",
   "execution_count": 123,
   "id": "746efc52",
   "metadata": {},
   "outputs": [],
   "source": [
    "#validacao cruzada k-fold\n",
    "for k in range(1, 25):\n",
    "    if k == 1:\n",
    "        X_train, X_validation = X[:-1], X[-1:]\n",
    "        Y_train, Y_validation = Y[:-1], Y[-1:]\n",
    "        model.fit(X_train, Y_train)\n",
    "        Y_pred = model.predict(X_validation)\n",
    "        rmse = np.sqrt(mean_squared_error(Y_validation, Y_pred))\n",
    "        erros.append(rmse)\n",
    "    else:\n",
    "        kf = KFold(n_splits=k, shuffle=True, random_state=42)\n",
    "        mse_scores = cross_val_score(model, X, Y, cv=kf, scoring='neg_mean_squared_error')\n",
    "        rmse_scores = np.sqrt(-mse_scores)\n",
    "        rmse = np.mean(rmse_scores)\n",
    "        erros.append(rmse)\n",
    "    "
   ]
  },
  {
   "cell_type": "code",
   "execution_count": 124,
   "id": "20170a2e",
   "metadata": {},
   "outputs": [
    {
     "data": {
      "image/png": "[encoded data removed]",
      "text/plain": [
       "<Figure size 1000x1000 with 1 Axes>"
      ]
     },
     "metadata": {},
     "output_type": "display_data"
    }
   ],
   "source": [
    "#plotar grafico x = K e y = erro\n",
    "ks = list(range(1,25))\n",
    "plt.figure(figsize=(10, 10))\n",
    "plt.plot(ks, erros, marker='o', linestyle='-', color='b')\n",
    "plt.title('Erro em relação ao K')\n",
    "plt.xlabel('K')\n",
    "plt.ylabel('Erro')\n",
    "plt.grid(True)\n",
    "plt.show()"
   ]
  },
  {
   "cell_type": "code",
   "execution_count": 125,
   "id": "b01b5313",
   "metadata": {},
   "outputs": [
    {
     "name": "stdout",
     "output_type": "stream",
     "text": [
      "O melhor valor de K é: 23\n"
     ]
    }
   ],
   "source": [
    "# Determinar o melhor valor de K (menor RMSE)\n",
    "best_k = np.argmin(erros) + 1\n",
    "print(f\"O melhor valor de K é: {best_k}\")"
   ]
  },
  {
   "cell_type": "code",
   "execution_count": 126,
   "id": "79dea8f9",
   "metadata": {},
   "outputs": [
    {
     "name": "stdout",
     "output_type": "stream",
     "text": [
      "RMSE final nos dados de teste: 56.06757646542668\n"
     ]
    }
   ],
   "source": [
    "# Treinar o modelo final com o melhor valor de K e avaliar nos dados de teste\n",
    "X_test = test_data[['Days']]\n",
    "kf = KFold(n_splits=best_k)\n",
    "model.fit(X_train, Y_train)\n",
    "y_pred_test = model.predict(X_test)\n",
    "final_rmse = np.sqrt(mean_squared_error(Y_test, y_pred_test))\n",
    "\n",
    "print(f\"RMSE final nos dados de teste: {final_rmse}\")"
   ]
  },
  {
   "cell_type": "code",
   "execution_count": null,
   "id": "d53acd64",
   "metadata": {},
   "outputs": [],
   "source": []
  }
 ],
 "metadata": {
  "kernelspec": {
   "display_name": "Python 3 (ipykernel)",
   "language": "python",
   "name": "python3"
  },
  "language_info": {
   "codemirror_mode": {
    "name": "ipython",
    "version": 3
   },
   "file_extension": ".py",
   "mimetype": "text/x-python",
   "name": "python",
   "nbconvert_exporter": "python",
   "pygments_lexer": "ipython3",
   "version": "3.11.4"
  }
 },
 "nbformat": 4,
 "nbformat_minor": 5
}
